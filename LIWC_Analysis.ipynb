{
  "cells": [
    {
      "cell_type": "markdown",
      "metadata": {
        "id": "view-in-github",
        "colab_type": "text"
      },
      "source": [
        "<a href=\"https://colab.research.google.com/github/falahamro/Identity_mapping/blob/main/LIWC_Analysis.ipynb\" target=\"_parent\"><img src=\"https://colab.research.google.com/assets/colab-badge.svg\" alt=\"Open In Colab\"/></a>"
      ]
    },
    {
      "cell_type": "markdown",
      "source": [
        "Psycholinguistic Analysis: we use the Linguistic Inquiry Word Count (LIWC) for psychometric analysis on the conversational discourse of the entire dataset. LIWC can help uncover linguistic and psychological patterns from users' discourse. For this analysis, we separated messages by clusters and applied the LIWC dictionary on each cluster. Next, we focus our attention on interpreting the observable psychological state of our clusters based on the LIWC psychometrics output.\n",
        "    \n",
        "First, cluster 0 messages tend to avoid using affective, anxiety, and anger related words but more sad and negative emotions words in general. This characterization can be explained by their narrative being neutral. As previously explained, we observed users' discourse in this class tend to have mainly positive sentiment. Additionally, discourse analysis revealed that major news channels contributed to the narrative. Coupled with the characterization that they attempted to portray a positive image of the demonstrations, we postulate these factors may have contributed to the native of the terms used. Another observable characteristic of cluster 0 messages is the mix usage of drives related terms. Specifically, we observe they use high risk, achievement, reward but low affiliation and power related words. This can be associated with the far right wing news channels agendas at the time; to convince the general public that the elections were rigged and prevent the incumbent president from being sworn in. \n",
        "\n",
        "Second, unlike cluster 0, users in cluster 1 tend to write with greater affectiveness and sadness in their messages. They however exhibit the same characteristics in using words expressing anger, and anxiety. This narrative characterization can be associated with the relatively low sentiment in their discourse as observed previously from the subjectivity measures. Greater expressions of drive related terms in general, affiliation, reward, and power terms are highly observable in cluster 1 messages; a characteristic lacking in both cluster 0, and 2. This distinctive observation can be explained by their notable high reach level and explicit violent political discussions, which were centered around advancing the narrative rhetoric surrounding the election results. Although they have a high tendency to use drive related terms, they use lower risk and achieve related terms which can be associated with low sociability level. \n",
        "\n",
        "Finally, cluster 2 users can be characterized with greater expression of anger and high anxiety related messages but avoid affective, negative, and sad emotion related terms. Similar to cluster 0, we observe they use lower drives related messages in general, but low risk and power messages, and average affiliation and achievement messages. While greater expressions of anger and anxiety can be explained with the significantly low sentiment scores as measured by sentiment analysis; the greater negativity expressions measured by LIWC contractics our findings. Furthermore, we postulated in our prior analysis that users in this class can be characterized by their high sociability level, coupled with topical analysis which revealed their discourse was centered around rallies. LIWC analysis reveals contracting observations on their attributes. These findings open the door for more investigation towards further explainability of their psychological characterization. \n",
        "\n",
        "\n"
      ],
      "metadata": {
        "id": "X2dgBMZcj7mC"
      }
    },
    {
      "cell_type": "code",
      "execution_count": 1,
      "metadata": {
        "id": "Enfd9bDDKcH4"
      },
      "outputs": [],
      "source": [
        "import pandas as pd\n",
        "import numpy as np"
      ]
    },
    {
      "cell_type": "code",
      "source": [
        "import seaborn as sns"
      ],
      "metadata": {
        "id": "CbfmLFIGTeW0"
      },
      "execution_count": 2,
      "outputs": []
    },
    {
      "cell_type": "code",
      "source": [
        "import matplotlib.pyplot as plt"
      ],
      "metadata": {
        "id": "AGtTFYH0TaGb"
      },
      "execution_count": 3,
      "outputs": []
    },
    {
      "cell_type": "code",
      "source": [
        "from google.colab import drive"
      ],
      "metadata": {
        "id": "ZGkJndT9KmcP"
      },
      "execution_count": 4,
      "outputs": []
    },
    {
      "cell_type": "code",
      "source": [
        "drive.mount(\"/content/drive\")"
      ],
      "metadata": {
        "id": "9g8afDmQKpRB",
        "outputId": "cf87085e-33fa-4ee9-99b6-e95eab074268",
        "colab": {
          "base_uri": "https://localhost:8080/"
        }
      },
      "execution_count": 5,
      "outputs": [
        {
          "output_type": "stream",
          "name": "stdout",
          "text": [
            "Mounted at /content/drive\n"
          ]
        }
      ]
    },
    {
      "cell_type": "code",
      "source": [
        "liwc = pd.read_csv(\"/content/drive/MyDrive/Colab Notebooks/LIWC Analysis/LIWCResults.csv\")"
      ],
      "metadata": {
        "id": "CyYpBOSeKr2F"
      },
      "execution_count": 6,
      "outputs": []
    },
    {
      "cell_type": "code",
      "source": [
        "liwc = liwc.rename(columns={'Filename':'Kmeans'})"
      ],
      "metadata": {
        "id": "50pLQ2eNXLxe"
      },
      "execution_count": 7,
      "outputs": []
    },
    {
      "cell_type": "code",
      "source": [
        "liwc.info()"
      ],
      "metadata": {
        "colab": {
          "base_uri": "https://localhost:8080/"
        },
        "id": "XMyEz-fQK-al",
        "outputId": "a9dcf8a1-3c28-4180-e7f7-49e4569a7d17"
      },
      "execution_count": 8,
      "outputs": [
        {
          "output_type": "stream",
          "name": "stdout",
          "text": [
            "<class 'pandas.core.frame.DataFrame'>\n",
            "RangeIndex: 3 entries, 0 to 2\n",
            "Data columns (total 95 columns):\n",
            " #   Column        Non-Null Count  Dtype  \n",
            "---  ------        --------------  -----  \n",
            " 0   Kmeans        3 non-null      int64  \n",
            " 1   Segment       3 non-null      int64  \n",
            " 2   WC            3 non-null      int64  \n",
            " 3   Analytic      3 non-null      float64\n",
            " 4   Clout         3 non-null      float64\n",
            " 5   Authentic     3 non-null      float64\n",
            " 6   Tone          3 non-null      float64\n",
            " 7   WPS           3 non-null      float64\n",
            " 8   Sixltr        3 non-null      float64\n",
            " 9   Dic           3 non-null      float64\n",
            " 10  function      3 non-null      float64\n",
            " 11  pronoun       3 non-null      float64\n",
            " 12  ppron         3 non-null      float64\n",
            " 13  i             3 non-null      float64\n",
            " 14  we            3 non-null      float64\n",
            " 15  you           3 non-null      float64\n",
            " 16  shehe         3 non-null      float64\n",
            " 17  they          3 non-null      float64\n",
            " 18  ipron         3 non-null      float64\n",
            " 19  article       3 non-null      float64\n",
            " 20  prep          3 non-null      float64\n",
            " 21  auxverb       3 non-null      float64\n",
            " 22  adverb        3 non-null      float64\n",
            " 23  conj          3 non-null      float64\n",
            " 24  negate        3 non-null      float64\n",
            " 25  verb          3 non-null      float64\n",
            " 26  adj           3 non-null      float64\n",
            " 27  compare       3 non-null      float64\n",
            " 28  interrog      3 non-null      float64\n",
            " 29  number        3 non-null      float64\n",
            " 30  quant         3 non-null      float64\n",
            " 31  affect        3 non-null      float64\n",
            " 32  posemo        3 non-null      float64\n",
            " 33  negemo        3 non-null      float64\n",
            " 34  anx           3 non-null      float64\n",
            " 35  anger         3 non-null      float64\n",
            " 36  sad           3 non-null      float64\n",
            " 37  social        3 non-null      float64\n",
            " 38  family        3 non-null      float64\n",
            " 39  friend        3 non-null      float64\n",
            " 40  female        3 non-null      float64\n",
            " 41  male          3 non-null      float64\n",
            " 42  cogproc       3 non-null      float64\n",
            " 43  insight       3 non-null      float64\n",
            " 44  cause         3 non-null      float64\n",
            " 45  discrep       3 non-null      float64\n",
            " 46  tentat        3 non-null      float64\n",
            " 47  certain       3 non-null      float64\n",
            " 48  differ        3 non-null      float64\n",
            " 49  percept       3 non-null      float64\n",
            " 50  see           3 non-null      float64\n",
            " 51  hear          3 non-null      float64\n",
            " 52  feel          3 non-null      float64\n",
            " 53  bio           3 non-null      float64\n",
            " 54  body          3 non-null      float64\n",
            " 55  health        3 non-null      float64\n",
            " 56  sexual        3 non-null      float64\n",
            " 57  ingest        3 non-null      float64\n",
            " 58  drives        3 non-null      float64\n",
            " 59  affiliation   3 non-null      float64\n",
            " 60  achieve       3 non-null      float64\n",
            " 61  power         3 non-null      float64\n",
            " 62  reward        3 non-null      float64\n",
            " 63  risk          3 non-null      float64\n",
            " 64  focuspast     3 non-null      float64\n",
            " 65  focuspresent  3 non-null      float64\n",
            " 66  focusfuture   3 non-null      float64\n",
            " 67  relativ       3 non-null      float64\n",
            " 68  motion        3 non-null      float64\n",
            " 69  space         3 non-null      float64\n",
            " 70  time          3 non-null      float64\n",
            " 71  work          3 non-null      float64\n",
            " 72  leisure       3 non-null      float64\n",
            " 73  home          3 non-null      float64\n",
            " 74  money         3 non-null      float64\n",
            " 75  relig         3 non-null      float64\n",
            " 76  death         3 non-null      float64\n",
            " 77  informal      3 non-null      float64\n",
            " 78  swear         3 non-null      float64\n",
            " 79  netspeak      3 non-null      float64\n",
            " 80  assent        3 non-null      float64\n",
            " 81  nonflu        3 non-null      float64\n",
            " 82  filler        3 non-null      float64\n",
            " 83  AllPunc       3 non-null      float64\n",
            " 84  Period        3 non-null      float64\n",
            " 85  Comma         3 non-null      float64\n",
            " 86  Colon         3 non-null      float64\n",
            " 87  SemiC         3 non-null      float64\n",
            " 88  QMark         3 non-null      float64\n",
            " 89  Exclam        3 non-null      float64\n",
            " 90  Dash          3 non-null      float64\n",
            " 91  Quote         3 non-null      float64\n",
            " 92  Apostro       3 non-null      float64\n",
            " 93  Parenth       3 non-null      float64\n",
            " 94  OtherP        3 non-null      float64\n",
            "dtypes: float64(92), int64(3)\n",
            "memory usage: 2.4 KB\n"
          ]
        }
      ]
    },
    {
      "cell_type": "code",
      "source": [
        "from sklearn.preprocessing import StandardScaler"
      ],
      "metadata": {
        "id": "K1GLCF9lU_Z9"
      },
      "execution_count": 9,
      "outputs": []
    },
    {
      "cell_type": "code",
      "source": [
        "x = liwc[['Kmeans', 'affect', 'posemo', 'negemo', 'anx', 'anger', 'sad', 'social', 'family', 'friend', 'cogproc', 'insight', 'cause', 'discrep', 'tentat', 'certain', 'differ', 'percept', 'drives', 'affiliation', 'achieve', 'power', 'reward', 'risk', 'swear']]\n",
        "\n",
        "\n",
        "sc = StandardScaler()\n",
        "x = sc.fit_transform(x)"
      ],
      "metadata": {
        "id": "c2j5yfLIU4u4"
      },
      "execution_count": 10,
      "outputs": []
    },
    {
      "cell_type": "code",
      "source": [
        "df = liwc.drop('Kmeans', axis= 1)"
      ],
      "metadata": {
        "id": "1IfpGxF5i0pX"
      },
      "execution_count": 11,
      "outputs": []
    },
    {
      "cell_type": "code",
      "source": [
        "df_norm = (df-df.min())/(df.max()-df.min())\n",
        "df_norm = pd.concat((df_norm, liwc.Kmeans), 1)\n"
      ],
      "metadata": {
        "colab": {
          "base_uri": "https://localhost:8080/"
        },
        "id": "JblCa6B3jLYD",
        "outputId": "9ec56ec2-0c2c-46af-c362-cd5b4f98fe91"
      },
      "execution_count": 12,
      "outputs": [
        {
          "output_type": "stream",
          "name": "stderr",
          "text": [
            "/usr/local/lib/python3.7/dist-packages/ipykernel_launcher.py:2: FutureWarning: In a future version of pandas all arguments of concat except for the argument 'objs' will be keyword-only\n",
            "  \n"
          ]
        }
      ]
    },
    {
      "cell_type": "code",
      "source": [
        "df_norm"
      ],
      "metadata": {
        "colab": {
          "base_uri": "https://localhost:8080/",
          "height": 237
        },
        "id": "3exSqQYwaYh0",
        "outputId": "e4b275e9-abe2-482b-9a18-d0c127594240"
      },
      "execution_count": 13,
      "outputs": [
        {
          "output_type": "execute_result",
          "data": {
            "text/plain": [
              "   Segment        WC  Analytic     Clout  Authentic      Tone       WPS  \\\n",
              "0      NaN  1.000000  0.000000  1.000000   0.000000  1.000000  0.288288   \n",
              "1      NaN  0.000000  0.834302  0.000000   0.714286  0.000000  0.000000   \n",
              "2      NaN  0.827607  1.000000  0.270833   1.000000  0.533708  1.000000   \n",
              "\n",
              "     Sixltr      Dic  function  ...  Colon     SemiC  QMark    Exclam  \\\n",
              "0  0.000000  1.00000  1.000000  ...    0.0  0.897436    1.0  1.000000   \n",
              "1  0.728571  0.83913  0.538462  ...    0.5  0.000000    0.8  0.196429   \n",
              "2  1.000000  0.00000  0.000000  ...    1.0  1.000000    0.0  0.000000   \n",
              "\n",
              "       Dash     Quote   Apostro  Parenth    OtherP  Kmeans  \n",
              "0  1.000000  0.000000  0.000000      0.0  0.000000       1  \n",
              "1  0.000000  0.954545  0.076923      1.0  0.230159       0  \n",
              "2  0.363636  1.000000  1.000000      1.0  1.000000       2  \n",
              "\n",
              "[3 rows x 95 columns]"
            ],
            "text/html": [
              "\n",
              "  <div id=\"df-4e04edaa-403a-4d9c-bdea-d04d9f60b5c1\">\n",
              "    <div class=\"colab-df-container\">\n",
              "      <div>\n",
              "<style scoped>\n",
              "    .dataframe tbody tr th:only-of-type {\n",
              "        vertical-align: middle;\n",
              "    }\n",
              "\n",
              "    .dataframe tbody tr th {\n",
              "        vertical-align: top;\n",
              "    }\n",
              "\n",
              "    .dataframe thead th {\n",
              "        text-align: right;\n",
              "    }\n",
              "</style>\n",
              "<table border=\"1\" class=\"dataframe\">\n",
              "  <thead>\n",
              "    <tr style=\"text-align: right;\">\n",
              "      <th></th>\n",
              "      <th>Segment</th>\n",
              "      <th>WC</th>\n",
              "      <th>Analytic</th>\n",
              "      <th>Clout</th>\n",
              "      <th>Authentic</th>\n",
              "      <th>Tone</th>\n",
              "      <th>WPS</th>\n",
              "      <th>Sixltr</th>\n",
              "      <th>Dic</th>\n",
              "      <th>function</th>\n",
              "      <th>...</th>\n",
              "      <th>Colon</th>\n",
              "      <th>SemiC</th>\n",
              "      <th>QMark</th>\n",
              "      <th>Exclam</th>\n",
              "      <th>Dash</th>\n",
              "      <th>Quote</th>\n",
              "      <th>Apostro</th>\n",
              "      <th>Parenth</th>\n",
              "      <th>OtherP</th>\n",
              "      <th>Kmeans</th>\n",
              "    </tr>\n",
              "  </thead>\n",
              "  <tbody>\n",
              "    <tr>\n",
              "      <th>0</th>\n",
              "      <td>NaN</td>\n",
              "      <td>1.000000</td>\n",
              "      <td>0.000000</td>\n",
              "      <td>1.000000</td>\n",
              "      <td>0.000000</td>\n",
              "      <td>1.000000</td>\n",
              "      <td>0.288288</td>\n",
              "      <td>0.000000</td>\n",
              "      <td>1.00000</td>\n",
              "      <td>1.000000</td>\n",
              "      <td>...</td>\n",
              "      <td>0.0</td>\n",
              "      <td>0.897436</td>\n",
              "      <td>1.0</td>\n",
              "      <td>1.000000</td>\n",
              "      <td>1.000000</td>\n",
              "      <td>0.000000</td>\n",
              "      <td>0.000000</td>\n",
              "      <td>0.0</td>\n",
              "      <td>0.000000</td>\n",
              "      <td>1</td>\n",
              "    </tr>\n",
              "    <tr>\n",
              "      <th>1</th>\n",
              "      <td>NaN</td>\n",
              "      <td>0.000000</td>\n",
              "      <td>0.834302</td>\n",
              "      <td>0.000000</td>\n",
              "      <td>0.714286</td>\n",
              "      <td>0.000000</td>\n",
              "      <td>0.000000</td>\n",
              "      <td>0.728571</td>\n",
              "      <td>0.83913</td>\n",
              "      <td>0.538462</td>\n",
              "      <td>...</td>\n",
              "      <td>0.5</td>\n",
              "      <td>0.000000</td>\n",
              "      <td>0.8</td>\n",
              "      <td>0.196429</td>\n",
              "      <td>0.000000</td>\n",
              "      <td>0.954545</td>\n",
              "      <td>0.076923</td>\n",
              "      <td>1.0</td>\n",
              "      <td>0.230159</td>\n",
              "      <td>0</td>\n",
              "    </tr>\n",
              "    <tr>\n",
              "      <th>2</th>\n",
              "      <td>NaN</td>\n",
              "      <td>0.827607</td>\n",
              "      <td>1.000000</td>\n",
              "      <td>0.270833</td>\n",
              "      <td>1.000000</td>\n",
              "      <td>0.533708</td>\n",
              "      <td>1.000000</td>\n",
              "      <td>1.000000</td>\n",
              "      <td>0.00000</td>\n",
              "      <td>0.000000</td>\n",
              "      <td>...</td>\n",
              "      <td>1.0</td>\n",
              "      <td>1.000000</td>\n",
              "      <td>0.0</td>\n",
              "      <td>0.000000</td>\n",
              "      <td>0.363636</td>\n",
              "      <td>1.000000</td>\n",
              "      <td>1.000000</td>\n",
              "      <td>1.0</td>\n",
              "      <td>1.000000</td>\n",
              "      <td>2</td>\n",
              "    </tr>\n",
              "  </tbody>\n",
              "</table>\n",
              "<p>3 rows × 95 columns</p>\n",
              "</div>\n",
              "      <button class=\"colab-df-convert\" onclick=\"convertToInteractive('df-4e04edaa-403a-4d9c-bdea-d04d9f60b5c1')\"\n",
              "              title=\"Convert this dataframe to an interactive table.\"\n",
              "              style=\"display:none;\">\n",
              "        \n",
              "  <svg xmlns=\"http://www.w3.org/2000/svg\" height=\"24px\"viewBox=\"0 0 24 24\"\n",
              "       width=\"24px\">\n",
              "    <path d=\"M0 0h24v24H0V0z\" fill=\"none\"/>\n",
              "    <path d=\"M18.56 5.44l.94 2.06.94-2.06 2.06-.94-2.06-.94-.94-2.06-.94 2.06-2.06.94zm-11 1L8.5 8.5l.94-2.06 2.06-.94-2.06-.94L8.5 2.5l-.94 2.06-2.06.94zm10 10l.94 2.06.94-2.06 2.06-.94-2.06-.94-.94-2.06-.94 2.06-2.06.94z\"/><path d=\"M17.41 7.96l-1.37-1.37c-.4-.4-.92-.59-1.43-.59-.52 0-1.04.2-1.43.59L10.3 9.45l-7.72 7.72c-.78.78-.78 2.05 0 2.83L4 21.41c.39.39.9.59 1.41.59.51 0 1.02-.2 1.41-.59l7.78-7.78 2.81-2.81c.8-.78.8-2.07 0-2.86zM5.41 20L4 18.59l7.72-7.72 1.47 1.35L5.41 20z\"/>\n",
              "  </svg>\n",
              "      </button>\n",
              "      \n",
              "  <style>\n",
              "    .colab-df-container {\n",
              "      display:flex;\n",
              "      flex-wrap:wrap;\n",
              "      gap: 12px;\n",
              "    }\n",
              "\n",
              "    .colab-df-convert {\n",
              "      background-color: #E8F0FE;\n",
              "      border: none;\n",
              "      border-radius: 50%;\n",
              "      cursor: pointer;\n",
              "      display: none;\n",
              "      fill: #1967D2;\n",
              "      height: 32px;\n",
              "      padding: 0 0 0 0;\n",
              "      width: 32px;\n",
              "    }\n",
              "\n",
              "    .colab-df-convert:hover {\n",
              "      background-color: #E2EBFA;\n",
              "      box-shadow: 0px 1px 2px rgba(60, 64, 67, 0.3), 0px 1px 3px 1px rgba(60, 64, 67, 0.15);\n",
              "      fill: #174EA6;\n",
              "    }\n",
              "\n",
              "    [theme=dark] .colab-df-convert {\n",
              "      background-color: #3B4455;\n",
              "      fill: #D2E3FC;\n",
              "    }\n",
              "\n",
              "    [theme=dark] .colab-df-convert:hover {\n",
              "      background-color: #434B5C;\n",
              "      box-shadow: 0px 1px 3px 1px rgba(0, 0, 0, 0.15);\n",
              "      filter: drop-shadow(0px 1px 2px rgba(0, 0, 0, 0.3));\n",
              "      fill: #FFFFFF;\n",
              "    }\n",
              "  </style>\n",
              "\n",
              "      <script>\n",
              "        const buttonEl =\n",
              "          document.querySelector('#df-4e04edaa-403a-4d9c-bdea-d04d9f60b5c1 button.colab-df-convert');\n",
              "        buttonEl.style.display =\n",
              "          google.colab.kernel.accessAllowed ? 'block' : 'none';\n",
              "\n",
              "        async function convertToInteractive(key) {\n",
              "          const element = document.querySelector('#df-4e04edaa-403a-4d9c-bdea-d04d9f60b5c1');\n",
              "          const dataTable =\n",
              "            await google.colab.kernel.invokeFunction('convertToInteractive',\n",
              "                                                     [key], {});\n",
              "          if (!dataTable) return;\n",
              "\n",
              "          const docLinkHtml = 'Like what you see? Visit the ' +\n",
              "            '<a target=\"_blank\" href=https://colab.research.google.com/notebooks/data_table.ipynb>data table notebook</a>'\n",
              "            + ' to learn more about interactive tables.';\n",
              "          element.innerHTML = '';\n",
              "          dataTable['output_type'] = 'display_data';\n",
              "          await google.colab.output.renderOutput(dataTable, element);\n",
              "          const docLink = document.createElement('div');\n",
              "          docLink.innerHTML = docLinkHtml;\n",
              "          element.appendChild(docLink);\n",
              "        }\n",
              "      </script>\n",
              "    </div>\n",
              "  </div>\n",
              "  "
            ]
          },
          "metadata": {},
          "execution_count": 13
        }
      ]
    },
    {
      "cell_type": "code",
      "source": [
        "liwc = df_norm"
      ],
      "metadata": {
        "id": "3k-r6HVjjUys"
      },
      "execution_count": 14,
      "outputs": []
    },
    {
      "cell_type": "code",
      "source": [
        "labels = '0', '1', '2'\n",
        "sizes = [liwc.Kmeans[liwc['Kmeans']==0].count(), liwc.Kmeans[liwc['Kmeans']==1].count(), liwc.Kmeans[liwc['Kmeans']==2].count()]\n",
        "fig1, ax1 = plt.subplots(figsize=(10, 8))\n",
        "ax1.pie(sizes, explode=(0, 0.1, 0), labels=labels, autopct='%1.1f%%')\n",
        "ax1.axis('equal')\n",
        "plt.title(\"Distribution of users in Clusters\", size = 20)\n",
        "plt.show()"
      ],
      "metadata": {
        "colab": {
          "base_uri": "https://localhost:8080/",
          "height": 487
        },
        "id": "2gou1tjaa_Nx",
        "outputId": "0cd8c064-77bc-4d5d-dc5b-2eee303afa8e"
      },
      "execution_count": 15,
      "outputs": [
        {
          "output_type": "display_data",
          "data": {
            "text/plain": [
              "<Figure size 720x576 with 1 Axes>"
            ],
            "image/png": "[encoded data removed]"
          },
          "metadata": {}
        }
      ]
    },
    {
      "cell_type": "code",
      "source": [
        "fig, axarr = plt.subplots(3, 2, figsize=(20, 12))\n",
        "sns.boxplot(y='affect',x = 'Kmeans', hue = 'Kmeans',data = liwc, ax=axarr[0][0])\n",
        "sns.boxplot(y='posemo',x = 'Kmeans', hue = 'Kmeans',data = liwc , ax=axarr[0][1])\n",
        "sns.boxplot(y='negemo',x = 'Kmeans', hue = 'Kmeans',data = liwc, ax=axarr[1][0])\n",
        "sns.boxplot(y='anx',x = 'Kmeans', hue = 'Kmeans',data = liwc, ax=axarr[1][1])\n",
        "sns.boxplot(y='anger',x = 'Kmeans', hue = 'Kmeans',data = liwc, ax=axarr[2][0])\n",
        "sns.boxplot(y='sad',x = 'Kmeans', hue = 'Kmeans',data = liwc, ax=axarr[2][1])"
      ],
      "metadata": {
        "colab": {
          "base_uri": "https://localhost:8080/",
          "height": 731
        },
        "id": "PFrhNeHha_Pj",
        "outputId": "3bb27b31-33a4-49d3-8212-66f0a61c07a7"
      },
      "execution_count": 16,
      "outputs": [
        {
          "output_type": "execute_result",
          "data": {
            "text/plain": [
              "<matplotlib.axes._subplots.AxesSubplot at 0x7f53810ffb90>"
            ]
          },
          "metadata": {},
          "execution_count": 16
        },
        {
          "output_type": "display_data",
          "data": {
            "text/plain": [
              "<Figure size 1440x864 with 6 Axes>"
            ],
            "image/png": "[encoded data removed]"
          },
          "metadata": {
            "needs_background": "light"
          }
        }
      ]
    },
    {
      "cell_type": "code",
      "source": [
        "fig, axarr = plt.subplots(3, 2, figsize=(20, 12))\n",
        "sns.boxplot(y='social',x = 'Kmeans', hue = 'Kmeans',data = liwc, ax=axarr[0][0])\n",
        "sns.boxplot(y='family',x = 'Kmeans', hue = 'Kmeans',data = liwc , ax=axarr[0][1])\n",
        "sns.boxplot(y='friend',x = 'Kmeans', hue = 'Kmeans',data = liwc, ax=axarr[1][0])\n",
        "sns.boxplot(y='cogproc',x = 'Kmeans', hue = 'Kmeans',data = liwc, ax=axarr[1][1])\n",
        "sns.boxplot(y='insight',x = 'Kmeans', hue = 'Kmeans',data = liwc, ax=axarr[2][0])\n",
        "sns.boxplot(y='cause',x = 'Kmeans', hue = 'Kmeans',data = liwc, ax=axarr[2][1])"
      ],
      "metadata": {
        "colab": {
          "base_uri": "https://localhost:8080/",
          "height": 731
        },
        "id": "Pv_NjuGLcOs_",
        "outputId": "6ec5aa35-33d8-46de-c0c4-fbe188e25628"
      },
      "execution_count": 17,
      "outputs": [
        {
          "output_type": "execute_result",
          "data": {
            "text/plain": [
              "<matplotlib.axes._subplots.AxesSubplot at 0x7f5380c566d0>"
            ]
          },
          "metadata": {},
          "execution_count": 17
        },
        {
          "output_type": "display_data",
          "data": {
            "text/plain": [
              "<Figure size 1440x864 with 6 Axes>"
            ],
            "image/png": "[encoded data removed]"
          },
          "metadata": {
            "needs_background": "light"
          }
        }
      ]
    },
    {
      "cell_type": "code",
      "source": [
        "fig, axarr = plt.subplots(3, 2, figsize=(20, 12))\n",
        "sns.boxplot(y='swear',x = 'Kmeans', hue = 'Kmeans',data = liwc, ax=axarr[0][0])\n",
        "sns.boxplot(y='risk',x = 'Kmeans', hue = 'Kmeans',data = liwc , ax=axarr[0][1])\n",
        "sns.boxplot(y='reward',x = 'Kmeans', hue = 'Kmeans',data = liwc, ax=axarr[1][0])\n",
        "sns.boxplot(y='power',x = 'Kmeans', hue = 'Kmeans',data = liwc, ax=axarr[1][1])\n",
        "sns.boxplot(y='achieve',x = 'Kmeans', hue = 'Kmeans',data = liwc, ax=axarr[2][0])\n",
        "sns.boxplot(y='affiliation',x = 'Kmeans', hue = 'Kmeans',data = liwc, ax=axarr[2][1])"
      ],
      "metadata": {
        "colab": {
          "base_uri": "https://localhost:8080/",
          "height": 731
        },
        "id": "Jx8kLr2Ca_SL",
        "outputId": "696b2fd2-5984-48a3-8b70-842e10691051"
      },
      "execution_count": 18,
      "outputs": [
        {
          "output_type": "execute_result",
          "data": {
            "text/plain": [
              "<matplotlib.axes._subplots.AxesSubplot at 0x7f538085fb10>"
            ]
          },
          "metadata": {},
          "execution_count": 18
        },
        {
          "output_type": "display_data",
          "data": {
            "text/plain": [
              "<Figure size 1440x864 with 6 Axes>"
            ],
            "image/png": "[encoded data removed]"
          },
          "metadata": {
            "needs_background": "light"
          }
        }
      ]
    },
    {
      "cell_type": "code",
      "source": [
        "fig, axarr = plt.subplots(3, 2, figsize=(20, 12))\n",
        "sns.boxplot(y='drives',x = 'Kmeans', hue = 'Kmeans',data = liwc, ax=axarr[0][0])\n",
        "sns.boxplot(y='percept',x = 'Kmeans', hue = 'Kmeans',data = liwc , ax=axarr[0][1])\n",
        "sns.boxplot(y='differ',x = 'Kmeans', hue = 'Kmeans',data = liwc, ax=axarr[1][0])\n",
        "sns.boxplot(y='discrep',x = 'Kmeans', hue = 'Kmeans',data = liwc, ax=axarr[1][1])\n",
        "sns.boxplot(y='certain',x = 'Kmeans', hue = 'Kmeans',data = liwc, ax=axarr[2][0])\n",
        "sns.boxplot(y='tentat',x = 'Kmeans', hue = 'Kmeans',data = liwc, ax=axarr[2][1])"
      ],
      "metadata": {
        "colab": {
          "base_uri": "https://localhost:8080/",
          "height": 735
        },
        "id": "nlfsYAe9a_Ui",
        "outputId": "6ad1213b-d9c2-4180-8ff6-63e85d662725"
      },
      "execution_count": 19,
      "outputs": [
        {
          "output_type": "execute_result",
          "data": {
            "text/plain": [
              "<matplotlib.axes._subplots.AxesSubplot at 0x7f538044c2d0>"
            ]
          },
          "metadata": {},
          "execution_count": 19
        },
        {
          "output_type": "display_data",
          "data": {
            "text/plain": [
              "<Figure size 1440x864 with 6 Axes>"
            ],
            "image/png": "[encoded data removed]"
          },
          "metadata": {
            "needs_background": "light"
          }
        }
      ]
    },
    {
      "cell_type": "code",
      "source": [
        "liwc = liwc[['Kmeans', 'affect', 'posemo', 'negemo', 'anx', 'anger', 'sad', 'social', 'family', 'friend', 'cogproc', 'insight', 'cause', 'discrep', 'tentat', 'certain', 'differ', 'percept', 'drives', 'affiliation', 'achieve', 'power', 'reward', 'risk', 'swear']]"
      ],
      "metadata": {
        "id": "dLnvjzQfK-vf"
      },
      "execution_count": 20,
      "outputs": []
    },
    {
      "cell_type": "code",
      "source": [
        "liwc"
      ],
      "metadata": {
        "colab": {
          "base_uri": "https://localhost:8080/",
          "height": 173
        },
        "id": "joHOmPnlL7Zn",
        "outputId": "680264e4-5252-4395-9d5f-afc43283118d"
      },
      "execution_count": 21,
      "outputs": [
        {
          "output_type": "execute_result",
          "data": {
            "text/plain": [
              "   Kmeans    affect    posemo  negemo   anx     anger   sad    social  family  \\\n",
              "0       1  1.000000  1.000000     0.0  0.00  0.142857  0.75  1.000000     1.0   \n",
              "1       0  0.133333  0.000000     1.0  0.25  0.000000  1.00  0.000000     0.0   \n",
              "2       2  0.000000  0.411765     0.2  1.00  1.000000  0.00  0.230769     1.0   \n",
              "\n",
              "   friend  ...   certain  differ  percept    drives  affiliation   achieve  \\\n",
              "0    0.25  ...  1.000000     0.5      NaN  1.000000       1.0000  0.000000   \n",
              "1    0.00  ...  0.592593     0.0      NaN  0.000000       0.0000  1.000000   \n",
              "2    1.00  ...  0.000000     1.0      NaN  0.064103       0.3625  0.428571   \n",
              "\n",
              "   power  reward      risk  swear  \n",
              "0   1.00    0.75  0.333333    0.5  \n",
              "1   0.00    1.00  1.000000    1.0  \n",
              "2   0.25    0.00  0.000000    0.0  \n",
              "\n",
              "[3 rows x 25 columns]"
            ],
            "text/html": [
              "\n",
              "  <div id=\"df-51e6c5da-6a30-44d0-8c24-cfe08e9d3d7a\">\n",
              "    <div class=\"colab-df-container\">\n",
              "      <div>\n",
              "<style scoped>\n",
              "    .dataframe tbody tr th:only-of-type {\n",
              "        vertical-align: middle;\n",
              "    }\n",
              "\n",
              "    .dataframe tbody tr th {\n",
              "        vertical-align: top;\n",
              "    }\n",
              "\n",
              "    .dataframe thead th {\n",
              "        text-align: right;\n",
              "    }\n",
              "</style>\n",
              "<table border=\"1\" class=\"dataframe\">\n",
              "  <thead>\n",
              "    <tr style=\"text-align: right;\">\n",
              "      <th></th>\n",
              "      <th>Kmeans</th>\n",
              "      <th>affect</th>\n",
              "      <th>posemo</th>\n",
              "      <th>negemo</th>\n",
              "      <th>anx</th>\n",
              "      <th>anger</th>\n",
              "      <th>sad</th>\n",
              "      <th>social</th>\n",
              "      <th>family</th>\n",
              "      <th>friend</th>\n",
              "      <th>...</th>\n",
              "      <th>certain</th>\n",
              "      <th>differ</th>\n",
              "      <th>percept</th>\n",
              "      <th>drives</th>\n",
              "      <th>affiliation</th>\n",
              "      <th>achieve</th>\n",
              "      <th>power</th>\n",
              "      <th>reward</th>\n",
              "      <th>risk</th>\n",
              "      <th>swear</th>\n",
              "    </tr>\n",
              "  </thead>\n",
              "  <tbody>\n",
              "    <tr>\n",
              "      <th>0</th>\n",
              "      <td>1</td>\n",
              "      <td>1.000000</td>\n",
              "      <td>1.000000</td>\n",
              "      <td>0.0</td>\n",
              "      <td>0.00</td>\n",
              "      <td>0.142857</td>\n",
              "      <td>0.75</td>\n",
              "      <td>1.000000</td>\n",
              "      <td>1.0</td>\n",
              "      <td>0.25</td>\n",
              "      <td>...</td>\n",
              "      <td>1.000000</td>\n",
              "      <td>0.5</td>\n",
              "      <td>NaN</td>\n",
              "      <td>1.000000</td>\n",
              "      <td>1.0000</td>\n",
              "      <td>0.000000</td>\n",
              "      <td>1.00</td>\n",
              "      <td>0.75</td>\n",
              "      <td>0.333333</td>\n",
              "      <td>0.5</td>\n",
              "    </tr>\n",
              "    <tr>\n",
              "      <th>1</th>\n",
              "      <td>0</td>\n",
              "      <td>0.133333</td>\n",
              "      <td>0.000000</td>\n",
              "      <td>1.0</td>\n",
              "      <td>0.25</td>\n",
              "      <td>0.000000</td>\n",
              "      <td>1.00</td>\n",
              "      <td>0.000000</td>\n",
              "      <td>0.0</td>\n",
              "      <td>0.00</td>\n",
              "      <td>...</td>\n",
              "      <td>0.592593</td>\n",
              "      <td>0.0</td>\n",
              "      <td>NaN</td>\n",
              "      <td>0.000000</td>\n",
              "      <td>0.0000</td>\n",
              "      <td>1.000000</td>\n",
              "      <td>0.00</td>\n",
              "      <td>1.00</td>\n",
              "      <td>1.000000</td>\n",
              "      <td>1.0</td>\n",
              "    </tr>\n",
              "    <tr>\n",
              "      <th>2</th>\n",
              "      <td>2</td>\n",
              "      <td>0.000000</td>\n",
              "      <td>0.411765</td>\n",
              "      <td>0.2</td>\n",
              "      <td>1.00</td>\n",
              "      <td>1.000000</td>\n",
              "      <td>0.00</td>\n",
              "      <td>0.230769</td>\n",
              "      <td>1.0</td>\n",
              "      <td>1.00</td>\n",
              "      <td>...</td>\n",
              "      <td>0.000000</td>\n",
              "      <td>1.0</td>\n",
              "      <td>NaN</td>\n",
              "      <td>0.064103</td>\n",
              "      <td>0.3625</td>\n",
              "      <td>0.428571</td>\n",
              "      <td>0.25</td>\n",
              "      <td>0.00</td>\n",
              "      <td>0.000000</td>\n",
              "      <td>0.0</td>\n",
              "    </tr>\n",
              "  </tbody>\n",
              "</table>\n",
              "<p>3 rows × 25 columns</p>\n",
              "</div>\n",
              "      <button class=\"colab-df-convert\" onclick=\"convertToInteractive('df-51e6c5da-6a30-44d0-8c24-cfe08e9d3d7a')\"\n",
              "              title=\"Convert this dataframe to an interactive table.\"\n",
              "              style=\"display:none;\">\n",
              "        \n",
              "  <svg xmlns=\"http://www.w3.org/2000/svg\" height=\"24px\"viewBox=\"0 0 24 24\"\n",
              "       width=\"24px\">\n",
              "    <path d=\"M0 0h24v24H0V0z\" fill=\"none\"/>\n",
              "    <path d=\"M18.56 5.44l.94 2.06.94-2.06 2.06-.94-2.06-.94-.94-2.06-.94 2.06-2.06.94zm-11 1L8.5 8.5l.94-2.06 2.06-.94-2.06-.94L8.5 2.5l-.94 2.06-2.06.94zm10 10l.94 2.06.94-2.06 2.06-.94-2.06-.94-.94-2.06-.94 2.06-2.06.94z\"/><path d=\"M17.41 7.96l-1.37-1.37c-.4-.4-.92-.59-1.43-.59-.52 0-1.04.2-1.43.59L10.3 9.45l-7.72 7.72c-.78.78-.78 2.05 0 2.83L4 21.41c.39.39.9.59 1.41.59.51 0 1.02-.2 1.41-.59l7.78-7.78 2.81-2.81c.8-.78.8-2.07 0-2.86zM5.41 20L4 18.59l7.72-7.72 1.47 1.35L5.41 20z\"/>\n",
              "  </svg>\n",
              "      </button>\n",
              "      \n",
              "  <style>\n",
              "    .colab-df-container {\n",
              "      display:flex;\n",
              "      flex-wrap:wrap;\n",
              "      gap: 12px;\n",
              "    }\n",
              "\n",
              "    .colab-df-convert {\n",
              "      background-color: #E8F0FE;\n",
              "      border: none;\n",
              "      border-radius: 50%;\n",
              "      cursor: pointer;\n",
              "      display: none;\n",
              "      fill: #1967D2;\n",
              "      height: 32px;\n",
              "      padding: 0 0 0 0;\n",
              "      width: 32px;\n",
              "    }\n",
              "\n",
              "    .colab-df-convert:hover {\n",
              "      background-color: #E2EBFA;\n",
              "      box-shadow: 0px 1px 2px rgba(60, 64, 67, 0.3), 0px 1px 3px 1px rgba(60, 64, 67, 0.15);\n",
              "      fill: #174EA6;\n",
              "    }\n",
              "\n",
              "    [theme=dark] .colab-df-convert {\n",
              "      background-color: #3B4455;\n",
              "      fill: #D2E3FC;\n",
              "    }\n",
              "\n",
              "    [theme=dark] .colab-df-convert:hover {\n",
              "      background-color: #434B5C;\n",
              "      box-shadow: 0px 1px 3px 1px rgba(0, 0, 0, 0.15);\n",
              "      filter: drop-shadow(0px 1px 2px rgba(0, 0, 0, 0.3));\n",
              "      fill: #FFFFFF;\n",
              "    }\n",
              "  </style>\n",
              "\n",
              "      <script>\n",
              "        const buttonEl =\n",
              "          document.querySelector('#df-51e6c5da-6a30-44d0-8c24-cfe08e9d3d7a button.colab-df-convert');\n",
              "        buttonEl.style.display =\n",
              "          google.colab.kernel.accessAllowed ? 'block' : 'none';\n",
              "\n",
              "        async function convertToInteractive(key) {\n",
              "          const element = document.querySelector('#df-51e6c5da-6a30-44d0-8c24-cfe08e9d3d7a');\n",
              "          const dataTable =\n",
              "            await google.colab.kernel.invokeFunction('convertToInteractive',\n",
              "                                                     [key], {});\n",
              "          if (!dataTable) return;\n",
              "\n",
              "          const docLinkHtml = 'Like what you see? Visit the ' +\n",
              "            '<a target=\"_blank\" href=https://colab.research.google.com/notebooks/data_table.ipynb>data table notebook</a>'\n",
              "            + ' to learn more about interactive tables.';\n",
              "          element.innerHTML = '';\n",
              "          dataTable['output_type'] = 'display_data';\n",
              "          await google.colab.output.renderOutput(dataTable, element);\n",
              "          const docLink = document.createElement('div');\n",
              "          docLink.innerHTML = docLinkHtml;\n",
              "          element.appendChild(docLink);\n",
              "        }\n",
              "      </script>\n",
              "    </div>\n",
              "  </div>\n",
              "  "
            ]
          },
          "metadata": {},
          "execution_count": 21
        }
      ]
    },
    {
      "cell_type": "code",
      "source": [
        "liwc[['affect', 'posemo', 'negemo', 'anx', 'anger', 'sad', 'social', 'family', 'friend', 'cogproc', 'insight', 'cause', 'discrep', 'tentat', 'certain', 'differ', 'percept', 'drives', 'affiliation', 'achieve', 'power', 'reward', 'risk', 'swear']].mean()"
      ],
      "metadata": {
        "colab": {
          "base_uri": "https://localhost:8080/"
        },
        "id": "dje_1dQYMC1H",
        "outputId": "f36f7e81-8ba1-4966-d290-7c0d6c880126"
      },
      "execution_count": 22,
      "outputs": [
        {
          "output_type": "execute_result",
          "data": {
            "text/plain": [
              "affect         0.377778\n",
              "posemo         0.470588\n",
              "negemo         0.400000\n",
              "anx            0.416667\n",
              "anger          0.380952\n",
              "sad            0.583333\n",
              "social         0.410256\n",
              "family         0.666667\n",
              "friend         0.416667\n",
              "cogproc        0.612613\n",
              "insight        0.636364\n",
              "cause          0.428571\n",
              "discrep        0.583333\n",
              "tentat         0.350000\n",
              "certain        0.530864\n",
              "differ         0.500000\n",
              "percept             NaN\n",
              "drives         0.354701\n",
              "affiliation    0.454167\n",
              "achieve        0.476190\n",
              "power          0.416667\n",
              "reward         0.583333\n",
              "risk           0.444444\n",
              "swear          0.500000\n",
              "dtype: float64"
            ]
          },
          "metadata": {},
          "execution_count": 22
        }
      ]
    },
    {
      "cell_type": "code",
      "source": [
        "liwc[['affect', 'posemo', 'negemo', 'anx', 'anger', 'sad', 'social', 'family', 'friend', 'cogproc', 'insight', 'cause', 'discrep', 'tentat', 'certain', 'differ', 'percept', 'drives', 'affiliation', 'achieve', 'power', 'reward', 'risk', 'swear']].std()"
      ],
      "metadata": {
        "colab": {
          "base_uri": "https://localhost:8080/"
        },
        "id": "tRex3t_EMfy-",
        "outputId": "815174ba-ca19-4b8a-d719-17bf981ca2cc"
      },
      "execution_count": 23,
      "outputs": [
        {
          "output_type": "execute_result",
          "data": {
            "text/plain": [
              "affect         0.542969\n",
              "posemo         0.502588\n",
              "negemo         0.529150\n",
              "anx            0.520416\n",
              "anger          0.540848\n",
              "sad            0.520416\n",
              "social         0.523605\n",
              "family         0.577350\n",
              "friend         0.520416\n",
              "cogproc        0.536698\n",
              "insight        0.552978\n",
              "cause          0.515079\n",
              "discrep        0.520416\n",
              "tentat         0.563471\n",
              "certain        0.502850\n",
              "differ         0.500000\n",
              "percept             NaN\n",
              "drives         0.559764\n",
              "affiliation    0.506263\n",
              "achieve        0.501698\n",
              "power          0.520416\n",
              "reward         0.520416\n",
              "risk           0.509175\n",
              "swear          0.500000\n",
              "dtype: float64"
            ]
          },
          "metadata": {},
          "execution_count": 23
        }
      ]
    },
    {
      "cell_type": "code",
      "source": [
        "liwc"
      ],
      "metadata": {
        "colab": {
          "base_uri": "https://localhost:8080/",
          "height": 173
        },
        "id": "Au8tnObRd3V7",
        "outputId": "3fe1f759-2f6e-46b9-cca3-cf0bf6ac1941"
      },
      "execution_count": 24,
      "outputs": [
        {
          "output_type": "execute_result",
          "data": {
            "text/plain": [
              "   Kmeans    affect    posemo  negemo   anx     anger   sad    social  family  \\\n",
              "0       1  1.000000  1.000000     0.0  0.00  0.142857  0.75  1.000000     1.0   \n",
              "1       0  0.133333  0.000000     1.0  0.25  0.000000  1.00  0.000000     0.0   \n",
              "2       2  0.000000  0.411765     0.2  1.00  1.000000  0.00  0.230769     1.0   \n",
              "\n",
              "   friend  ...   certain  differ  percept    drives  affiliation   achieve  \\\n",
              "0    0.25  ...  1.000000     0.5      NaN  1.000000       1.0000  0.000000   \n",
              "1    0.00  ...  0.592593     0.0      NaN  0.000000       0.0000  1.000000   \n",
              "2    1.00  ...  0.000000     1.0      NaN  0.064103       0.3625  0.428571   \n",
              "\n",
              "   power  reward      risk  swear  \n",
              "0   1.00    0.75  0.333333    0.5  \n",
              "1   0.00    1.00  1.000000    1.0  \n",
              "2   0.25    0.00  0.000000    0.0  \n",
              "\n",
              "[3 rows x 25 columns]"
            ],
            "text/html": [
              "\n",
              "  <div id=\"df-475d5b6d-d227-4f49-a521-c9566e2b9b75\">\n",
              "    <div class=\"colab-df-container\">\n",
              "      <div>\n",
              "<style scoped>\n",
              "    .dataframe tbody tr th:only-of-type {\n",
              "        vertical-align: middle;\n",
              "    }\n",
              "\n",
              "    .dataframe tbody tr th {\n",
              "        vertical-align: top;\n",
              "    }\n",
              "\n",
              "    .dataframe thead th {\n",
              "        text-align: right;\n",
              "    }\n",
              "</style>\n",
              "<table border=\"1\" class=\"dataframe\">\n",
              "  <thead>\n",
              "    <tr style=\"text-align: right;\">\n",
              "      <th></th>\n",
              "      <th>Kmeans</th>\n",
              "      <th>affect</th>\n",
              "      <th>posemo</th>\n",
              "      <th>negemo</th>\n",
              "      <th>anx</th>\n",
              "      <th>anger</th>\n",
              "      <th>sad</th>\n",
              "      <th>social</th>\n",
              "      <th>family</th>\n",
              "      <th>friend</th>\n",
              "      <th>...</th>\n",
              "      <th>certain</th>\n",
              "      <th>differ</th>\n",
              "      <th>percept</th>\n",
              "      <th>drives</th>\n",
              "      <th>affiliation</th>\n",
              "      <th>achieve</th>\n",
              "      <th>power</th>\n",
              "      <th>reward</th>\n",
              "      <th>risk</th>\n",
              "      <th>swear</th>\n",
              "    </tr>\n",
              "  </thead>\n",
              "  <tbody>\n",
              "    <tr>\n",
              "      <th>0</th>\n",
              "      <td>1</td>\n",
              "      <td>1.000000</td>\n",
              "      <td>1.000000</td>\n",
              "      <td>0.0</td>\n",
              "      <td>0.00</td>\n",
              "      <td>0.142857</td>\n",
              "      <td>0.75</td>\n",
              "      <td>1.000000</td>\n",
              "      <td>1.0</td>\n",
              "      <td>0.25</td>\n",
              "      <td>...</td>\n",
              "      <td>1.000000</td>\n",
              "      <td>0.5</td>\n",
              "      <td>NaN</td>\n",
              "      <td>1.000000</td>\n",
              "      <td>1.0000</td>\n",
              "      <td>0.000000</td>\n",
              "      <td>1.00</td>\n",
              "      <td>0.75</td>\n",
              "      <td>0.333333</td>\n",
              "      <td>0.5</td>\n",
              "    </tr>\n",
              "    <tr>\n",
              "      <th>1</th>\n",
              "      <td>0</td>\n",
              "      <td>0.133333</td>\n",
              "      <td>0.000000</td>\n",
              "      <td>1.0</td>\n",
              "      <td>0.25</td>\n",
              "      <td>0.000000</td>\n",
              "      <td>1.00</td>\n",
              "      <td>0.000000</td>\n",
              "      <td>0.0</td>\n",
              "      <td>0.00</td>\n",
              "      <td>...</td>\n",
              "      <td>0.592593</td>\n",
              "      <td>0.0</td>\n",
              "      <td>NaN</td>\n",
              "      <td>0.000000</td>\n",
              "      <td>0.0000</td>\n",
              "      <td>1.000000</td>\n",
              "      <td>0.00</td>\n",
              "      <td>1.00</td>\n",
              "      <td>1.000000</td>\n",
              "      <td>1.0</td>\n",
              "    </tr>\n",
              "    <tr>\n",
              "      <th>2</th>\n",
              "      <td>2</td>\n",
              "      <td>0.000000</td>\n",
              "      <td>0.411765</td>\n",
              "      <td>0.2</td>\n",
              "      <td>1.00</td>\n",
              "      <td>1.000000</td>\n",
              "      <td>0.00</td>\n",
              "      <td>0.230769</td>\n",
              "      <td>1.0</td>\n",
              "      <td>1.00</td>\n",
              "      <td>...</td>\n",
              "      <td>0.000000</td>\n",
              "      <td>1.0</td>\n",
              "      <td>NaN</td>\n",
              "      <td>0.064103</td>\n",
              "      <td>0.3625</td>\n",
              "      <td>0.428571</td>\n",
              "      <td>0.25</td>\n",
              "      <td>0.00</td>\n",
              "      <td>0.000000</td>\n",
              "      <td>0.0</td>\n",
              "    </tr>\n",
              "  </tbody>\n",
              "</table>\n",
              "<p>3 rows × 25 columns</p>\n",
              "</div>\n",
              "      <button class=\"colab-df-convert\" onclick=\"convertToInteractive('df-475d5b6d-d227-4f49-a521-c9566e2b9b75')\"\n",
              "              title=\"Convert this dataframe to an interactive table.\"\n",
              "              style=\"display:none;\">\n",
              "        \n",
              "  <svg xmlns=\"http://www.w3.org/2000/svg\" height=\"24px\"viewBox=\"0 0 24 24\"\n",
              "       width=\"24px\">\n",
              "    <path d=\"M0 0h24v24H0V0z\" fill=\"none\"/>\n",
              "    <path d=\"M18.56 5.44l.94 2.06.94-2.06 2.06-.94-2.06-.94-.94-2.06-.94 2.06-2.06.94zm-11 1L8.5 8.5l.94-2.06 2.06-.94-2.06-.94L8.5 2.5l-.94 2.06-2.06.94zm10 10l.94 2.06.94-2.06 2.06-.94-2.06-.94-.94-2.06-.94 2.06-2.06.94z\"/><path d=\"M17.41 7.96l-1.37-1.37c-.4-.4-.92-.59-1.43-.59-.52 0-1.04.2-1.43.59L10.3 9.45l-7.72 7.72c-.78.78-.78 2.05 0 2.83L4 21.41c.39.39.9.59 1.41.59.51 0 1.02-.2 1.41-.59l7.78-7.78 2.81-2.81c.8-.78.8-2.07 0-2.86zM5.41 20L4 18.59l7.72-7.72 1.47 1.35L5.41 20z\"/>\n",
              "  </svg>\n",
              "      </button>\n",
              "      \n",
              "  <style>\n",
              "    .colab-df-container {\n",
              "      display:flex;\n",
              "      flex-wrap:wrap;\n",
              "      gap: 12px;\n",
              "    }\n",
              "\n",
              "    .colab-df-convert {\n",
              "      background-color: #E8F0FE;\n",
              "      border: none;\n",
              "      border-radius: 50%;\n",
              "      cursor: pointer;\n",
              "      display: none;\n",
              "      fill: #1967D2;\n",
              "      height: 32px;\n",
              "      padding: 0 0 0 0;\n",
              "      width: 32px;\n",
              "    }\n",
              "\n",
              "    .colab-df-convert:hover {\n",
              "      background-color: #E2EBFA;\n",
              "      box-shadow: 0px 1px 2px rgba(60, 64, 67, 0.3), 0px 1px 3px 1px rgba(60, 64, 67, 0.15);\n",
              "      fill: #174EA6;\n",
              "    }\n",
              "\n",
              "    [theme=dark] .colab-df-convert {\n",
              "      background-color: #3B4455;\n",
              "      fill: #D2E3FC;\n",
              "    }\n",
              "\n",
              "    [theme=dark] .colab-df-convert:hover {\n",
              "      background-color: #434B5C;\n",
              "      box-shadow: 0px 1px 3px 1px rgba(0, 0, 0, 0.15);\n",
              "      filter: drop-shadow(0px 1px 2px rgba(0, 0, 0, 0.3));\n",
              "      fill: #FFFFFF;\n",
              "    }\n",
              "  </style>\n",
              "\n",
              "      <script>\n",
              "        const buttonEl =\n",
              "          document.querySelector('#df-475d5b6d-d227-4f49-a521-c9566e2b9b75 button.colab-df-convert');\n",
              "        buttonEl.style.display =\n",
              "          google.colab.kernel.accessAllowed ? 'block' : 'none';\n",
              "\n",
              "        async function convertToInteractive(key) {\n",
              "          const element = document.querySelector('#df-475d5b6d-d227-4f49-a521-c9566e2b9b75');\n",
              "          const dataTable =\n",
              "            await google.colab.kernel.invokeFunction('convertToInteractive',\n",
              "                                                     [key], {});\n",
              "          if (!dataTable) return;\n",
              "\n",
              "          const docLinkHtml = 'Like what you see? Visit the ' +\n",
              "            '<a target=\"_blank\" href=https://colab.research.google.com/notebooks/data_table.ipynb>data table notebook</a>'\n",
              "            + ' to learn more about interactive tables.';\n",
              "          element.innerHTML = '';\n",
              "          dataTable['output_type'] = 'display_data';\n",
              "          await google.colab.output.renderOutput(dataTable, element);\n",
              "          const docLink = document.createElement('div');\n",
              "          docLink.innerHTML = docLinkHtml;\n",
              "          element.appendChild(docLink);\n",
              "        }\n",
              "      </script>\n",
              "    </div>\n",
              "  </div>\n",
              "  "
            ]
          },
          "metadata": {},
          "execution_count": 24
        }
      ]
    },
    {
      "cell_type": "code",
      "source": [
        "liwc[['affect', 'posemo', 'negemo', 'anx', 'anger', 'sad', 'social', 'family', 'friend', 'cogproc', 'insight', 'cause', 'discrep', 'tentat', 'certain', 'differ', 'percept', 'drives', 'affiliation', 'achieve', 'power', 'reward', 'risk', 'swear','Kmeans']].groupby(\"Kmeans\").aggregate([np.mean, np.std])"
      ],
      "metadata": {
        "colab": {
          "base_uri": "https://localhost:8080/",
          "height": 235
        },
        "id": "P76h9bk3MnJa",
        "outputId": "0a3ee90b-39db-4bdd-d6ac-3ab8c169fdf5"
      },
      "execution_count": 25,
      "outputs": [
        {
          "output_type": "execute_result",
          "data": {
            "text/plain": [
              "          affect        posemo     negemo       anx         anger      ...  \\\n",
              "            mean std      mean std   mean std  mean std      mean std  ...   \n",
              "Kmeans                                                                 ...   \n",
              "0       0.133333 NaN  0.000000 NaN    1.0 NaN  0.25 NaN  0.000000 NaN  ...   \n",
              "1       1.000000 NaN  1.000000 NaN    0.0 NaN  0.00 NaN  0.142857 NaN  ...   \n",
              "2       0.000000 NaN  0.411765 NaN    0.2 NaN  1.00 NaN  1.000000 NaN  ...   \n",
              "\n",
              "         achieve     power     reward          risk     swear      \n",
              "            mean std  mean std   mean std      mean std  mean std  \n",
              "Kmeans                                                             \n",
              "0       1.000000 NaN  0.00 NaN   1.00 NaN  1.000000 NaN   1.0 NaN  \n",
              "1       0.000000 NaN  1.00 NaN   0.75 NaN  0.333333 NaN   0.5 NaN  \n",
              "2       0.428571 NaN  0.25 NaN   0.00 NaN  0.000000 NaN   0.0 NaN  \n",
              "\n",
              "[3 rows x 48 columns]"
            ],
            "text/html": [
              "\n",
              "  <div id=\"df-0416e702-a4a1-40fa-a4b2-597980b66ad7\">\n",
              "    <div class=\"colab-df-container\">\n",
              "      <div>\n",
              "<style scoped>\n",
              "    .dataframe tbody tr th:only-of-type {\n",
              "        vertical-align: middle;\n",
              "    }\n",
              "\n",
              "    .dataframe tbody tr th {\n",
              "        vertical-align: top;\n",
              "    }\n",
              "\n",
              "    .dataframe thead tr th {\n",
              "        text-align: left;\n",
              "    }\n",
              "\n",
              "    .dataframe thead tr:last-of-type th {\n",
              "        text-align: right;\n",
              "    }\n",
              "</style>\n",
              "<table border=\"1\" class=\"dataframe\">\n",
              "  <thead>\n",
              "    <tr>\n",
              "      <th></th>\n",
              "      <th colspan=\"2\" halign=\"left\">affect</th>\n",
              "      <th colspan=\"2\" halign=\"left\">posemo</th>\n",
              "      <th colspan=\"2\" halign=\"left\">negemo</th>\n",
              "      <th colspan=\"2\" halign=\"left\">anx</th>\n",
              "      <th colspan=\"2\" halign=\"left\">anger</th>\n",
              "      <th>...</th>\n",
              "      <th colspan=\"2\" halign=\"left\">achieve</th>\n",
              "      <th colspan=\"2\" halign=\"left\">power</th>\n",
              "      <th colspan=\"2\" halign=\"left\">reward</th>\n",
              "      <th colspan=\"2\" halign=\"left\">risk</th>\n",
              "      <th colspan=\"2\" halign=\"left\">swear</th>\n",
              "    </tr>\n",
              "    <tr>\n",
              "      <th></th>\n",
              "      <th>mean</th>\n",
              "      <th>std</th>\n",
              "      <th>mean</th>\n",
              "      <th>std</th>\n",
              "      <th>mean</th>\n",
              "      <th>std</th>\n",
              "      <th>mean</th>\n",
              "      <th>std</th>\n",
              "      <th>mean</th>\n",
              "      <th>std</th>\n",
              "      <th>...</th>\n",
              "      <th>mean</th>\n",
              "      <th>std</th>\n",
              "      <th>mean</th>\n",
              "      <th>std</th>\n",
              "      <th>mean</th>\n",
              "      <th>std</th>\n",
              "      <th>mean</th>\n",
              "      <th>std</th>\n",
              "      <th>mean</th>\n",
              "      <th>std</th>\n",
              "    </tr>\n",
              "    <tr>\n",
              "      <th>Kmeans</th>\n",
              "      <th></th>\n",
              "      <th></th>\n",
              "      <th></th>\n",
              "      <th></th>\n",
              "      <th></th>\n",
              "      <th></th>\n",
              "      <th></th>\n",
              "      <th></th>\n",
              "      <th></th>\n",
              "      <th></th>\n",
              "      <th></th>\n",
              "      <th></th>\n",
              "      <th></th>\n",
              "      <th></th>\n",
              "      <th></th>\n",
              "      <th></th>\n",
              "      <th></th>\n",
              "      <th></th>\n",
              "      <th></th>\n",
              "      <th></th>\n",
              "      <th></th>\n",
              "    </tr>\n",
              "  </thead>\n",
              "  <tbody>\n",
              "    <tr>\n",
              "      <th>0</th>\n",
              "      <td>0.133333</td>\n",
              "      <td>NaN</td>\n",
              "      <td>0.000000</td>\n",
              "      <td>NaN</td>\n",
              "      <td>1.0</td>\n",
              "      <td>NaN</td>\n",
              "      <td>0.25</td>\n",
              "      <td>NaN</td>\n",
              "      <td>0.000000</td>\n",
              "      <td>NaN</td>\n",
              "      <td>...</td>\n",
              "      <td>1.000000</td>\n",
              "      <td>NaN</td>\n",
              "      <td>0.00</td>\n",
              "      <td>NaN</td>\n",
              "      <td>1.00</td>\n",
              "      <td>NaN</td>\n",
              "      <td>1.000000</td>\n",
              "      <td>NaN</td>\n",
              "      <td>1.0</td>\n",
              "      <td>NaN</td>\n",
              "    </tr>\n",
              "    <tr>\n",
              "      <th>1</th>\n",
              "      <td>1.000000</td>\n",
              "      <td>NaN</td>\n",
              "      <td>1.000000</td>\n",
              "      <td>NaN</td>\n",
              "      <td>0.0</td>\n",
              "      <td>NaN</td>\n",
              "      <td>0.00</td>\n",
              "      <td>NaN</td>\n",
              "      <td>0.142857</td>\n",
              "      <td>NaN</td>\n",
              "      <td>...</td>\n",
              "      <td>0.000000</td>\n",
              "      <td>NaN</td>\n",
              "      <td>1.00</td>\n",
              "      <td>NaN</td>\n",
              "      <td>0.75</td>\n",
              "      <td>NaN</td>\n",
              "      <td>0.333333</td>\n",
              "      <td>NaN</td>\n",
              "      <td>0.5</td>\n",
              "      <td>NaN</td>\n",
              "    </tr>\n",
              "    <tr>\n",
              "      <th>2</th>\n",
              "      <td>0.000000</td>\n",
              "      <td>NaN</td>\n",
              "      <td>0.411765</td>\n",
              "      <td>NaN</td>\n",
              "      <td>0.2</td>\n",
              "      <td>NaN</td>\n",
              "      <td>1.00</td>\n",
              "      <td>NaN</td>\n",
              "      <td>1.000000</td>\n",
              "      <td>NaN</td>\n",
              "      <td>...</td>\n",
              "      <td>0.428571</td>\n",
              "      <td>NaN</td>\n",
              "      <td>0.25</td>\n",
              "      <td>NaN</td>\n",
              "      <td>0.00</td>\n",
              "      <td>NaN</td>\n",
              "      <td>0.000000</td>\n",
              "      <td>NaN</td>\n",
              "      <td>0.0</td>\n",
              "      <td>NaN</td>\n",
              "    </tr>\n",
              "  </tbody>\n",
              "</table>\n",
              "<p>3 rows × 48 columns</p>\n",
              "</div>\n",
              "      <button class=\"colab-df-convert\" onclick=\"convertToInteractive('df-0416e702-a4a1-40fa-a4b2-597980b66ad7')\"\n",
              "              title=\"Convert this dataframe to an interactive table.\"\n",
              "              style=\"display:none;\">\n",
              "        \n",
              "  <svg xmlns=\"http://www.w3.org/2000/svg\" height=\"24px\"viewBox=\"0 0 24 24\"\n",
              "       width=\"24px\">\n",
              "    <path d=\"M0 0h24v24H0V0z\" fill=\"none\"/>\n",
              "    <path d=\"M18.56 5.44l.94 2.06.94-2.06 2.06-.94-2.06-.94-.94-2.06-.94 2.06-2.06.94zm-11 1L8.5 8.5l.94-2.06 2.06-.94-2.06-.94L8.5 2.5l-.94 2.06-2.06.94zm10 10l.94 2.06.94-2.06 2.06-.94-2.06-.94-.94-2.06-.94 2.06-2.06.94z\"/><path d=\"M17.41 7.96l-1.37-1.37c-.4-.4-.92-.59-1.43-.59-.52 0-1.04.2-1.43.59L10.3 9.45l-7.72 7.72c-.78.78-.78 2.05 0 2.83L4 21.41c.39.39.9.59 1.41.59.51 0 1.02-.2 1.41-.59l7.78-7.78 2.81-2.81c.8-.78.8-2.07 0-2.86zM5.41 20L4 18.59l7.72-7.72 1.47 1.35L5.41 20z\"/>\n",
              "  </svg>\n",
              "      </button>\n",
              "      \n",
              "  <style>\n",
              "    .colab-df-container {\n",
              "      display:flex;\n",
              "      flex-wrap:wrap;\n",
              "      gap: 12px;\n",
              "    }\n",
              "\n",
              "    .colab-df-convert {\n",
              "      background-color: #E8F0FE;\n",
              "      border: none;\n",
              "      border-radius: 50%;\n",
              "      cursor: pointer;\n",
              "      display: none;\n",
              "      fill: #1967D2;\n",
              "      height: 32px;\n",
              "      padding: 0 0 0 0;\n",
              "      width: 32px;\n",
              "    }\n",
              "\n",
              "    .colab-df-convert:hover {\n",
              "      background-color: #E2EBFA;\n",
              "      box-shadow: 0px 1px 2px rgba(60, 64, 67, 0.3), 0px 1px 3px 1px rgba(60, 64, 67, 0.15);\n",
              "      fill: #174EA6;\n",
              "    }\n",
              "\n",
              "    [theme=dark] .colab-df-convert {\n",
              "      background-color: #3B4455;\n",
              "      fill: #D2E3FC;\n",
              "    }\n",
              "\n",
              "    [theme=dark] .colab-df-convert:hover {\n",
              "      background-color: #434B5C;\n",
              "      box-shadow: 0px 1px 3px 1px rgba(0, 0, 0, 0.15);\n",
              "      filter: drop-shadow(0px 1px 2px rgba(0, 0, 0, 0.3));\n",
              "      fill: #FFFFFF;\n",
              "    }\n",
              "  </style>\n",
              "\n",
              "      <script>\n",
              "        const buttonEl =\n",
              "          document.querySelector('#df-0416e702-a4a1-40fa-a4b2-597980b66ad7 button.colab-df-convert');\n",
              "        buttonEl.style.display =\n",
              "          google.colab.kernel.accessAllowed ? 'block' : 'none';\n",
              "\n",
              "        async function convertToInteractive(key) {\n",
              "          const element = document.querySelector('#df-0416e702-a4a1-40fa-a4b2-597980b66ad7');\n",
              "          const dataTable =\n",
              "            await google.colab.kernel.invokeFunction('convertToInteractive',\n",
              "                                                     [key], {});\n",
              "          if (!dataTable) return;\n",
              "\n",
              "          const docLinkHtml = 'Like what you see? Visit the ' +\n",
              "            '<a target=\"_blank\" href=https://colab.research.google.com/notebooks/data_table.ipynb>data table notebook</a>'\n",
              "            + ' to learn more about interactive tables.';\n",
              "          element.innerHTML = '';\n",
              "          dataTable['output_type'] = 'display_data';\n",
              "          await google.colab.output.renderOutput(dataTable, element);\n",
              "          const docLink = document.createElement('div');\n",
              "          docLink.innerHTML = docLinkHtml;\n",
              "          element.appendChild(docLink);\n",
              "        }\n",
              "      </script>\n",
              "    </div>\n",
              "  </div>\n",
              "  "
            ]
          },
          "metadata": {},
          "execution_count": 25
        }
      ]
    },
    {
      "cell_type": "code",
      "source": [
        "liwc.boxplot('affect', by='Kmeans', figsize=(12, 8))"
      ],
      "metadata": {
        "colab": {
          "base_uri": "https://localhost:8080/",
          "height": 557
        },
        "id": "Sto-Hrq6NLDT",
        "outputId": "67f7bead-b9d2-4f0d-8d52-008419ced1a3"
      },
      "execution_count": 26,
      "outputs": [
        {
          "output_type": "execute_result",
          "data": {
            "text/plain": [
              "<matplotlib.axes._subplots.AxesSubplot at 0x7f5380166b50>"
            ]
          },
          "metadata": {},
          "execution_count": 26
        },
        {
          "output_type": "display_data",
          "data": {
            "text/plain": [
              "<Figure size 864x576 with 1 Axes>"
            ],
            "image/png": "[encoded data removed]"
          },
          "metadata": {
            "needs_background": "light"
          }
        }
      ]
    },
    {
      "cell_type": "code",
      "source": [
        "liwc.boxplot('posemo', by='Kmeans', figsize=(12, 8))"
      ],
      "metadata": {
        "colab": {
          "base_uri": "https://localhost:8080/",
          "height": 557
        },
        "id": "JISYoyR-Seo2",
        "outputId": "7a4b972d-f7f7-4b5a-8f28-6af0f2cac597"
      },
      "execution_count": 27,
      "outputs": [
        {
          "output_type": "execute_result",
          "data": {
            "text/plain": [
              "<matplotlib.axes._subplots.AxesSubplot at 0x7f53800d9fd0>"
            ]
          },
          "metadata": {},
          "execution_count": 27
        },
        {
          "output_type": "display_data",
          "data": {
            "text/plain": [
              "<Figure size 864x576 with 1 Axes>"
            ],
            "image/png": "[encoded data removed]"
          },
          "metadata": {
            "needs_background": "light"
          }
        }
      ]
    },
    {
      "cell_type": "code",
      "source": [
        "liwc.boxplot('negemo', by='Kmeans', figsize=(12, 8))"
      ],
      "metadata": {
        "colab": {
          "base_uri": "https://localhost:8080/",
          "height": 557
        },
        "id": "Y7aR7iwwSfE8",
        "outputId": "420e1d7b-1d9d-47c1-e8e7-ab69c294a302"
      },
      "execution_count": 28,
      "outputs": [
        {
          "output_type": "execute_result",
          "data": {
            "text/plain": [
              "<matplotlib.axes._subplots.AxesSubplot at 0x7f5380033f50>"
            ]
          },
          "metadata": {},
          "execution_count": 28
        },
        {
          "output_type": "display_data",
          "data": {
            "text/plain": [
              "<Figure size 864x576 with 1 Axes>"
            ],
            "image/png": "[encoded data removed]"
          },
          "metadata": {
            "needs_background": "light"
          }
        }
      ]
    },
    {
      "cell_type": "code",
      "source": [
        "liwc.boxplot('anx', by='Kmeans', figsize=(12, 8))"
      ],
      "metadata": {
        "colab": {
          "base_uri": "https://localhost:8080/",
          "height": 557
        },
        "id": "R4kiRZJjSfWZ",
        "outputId": "e186648d-7349-4ed4-b237-03fa5e8bba2c"
      },
      "execution_count": 29,
      "outputs": [
        {
          "output_type": "execute_result",
          "data": {
            "text/plain": [
              "<matplotlib.axes._subplots.AxesSubplot at 0x7f537ff4ce90>"
            ]
          },
          "metadata": {},
          "execution_count": 29
        },
        {
          "output_type": "display_data",
          "data": {
            "text/plain": [
              "<Figure size 864x576 with 1 Axes>"
            ],
            "image/png": "[encoded data removed]"
          },
          "metadata": {
            "needs_background": "light"
          }
        }
      ]
    },
    {
      "cell_type": "code",
      "source": [
        "liwc.boxplot('anger', by='Kmeans', figsize=(12, 8))"
      ],
      "metadata": {
        "colab": {
          "base_uri": "https://localhost:8080/",
          "height": 557
        },
        "id": "ObbZZZr4Sfk-",
        "outputId": "4c9d4ca2-ea4d-454e-90fe-4ebe0badfbba"
      },
      "execution_count": 30,
      "outputs": [
        {
          "output_type": "execute_result",
          "data": {
            "text/plain": [
              "<matplotlib.axes._subplots.AxesSubplot at 0x7f537feea750>"
            ]
          },
          "metadata": {},
          "execution_count": 30
        },
        {
          "output_type": "display_data",
          "data": {
            "text/plain": [
              "<Figure size 864x576 with 1 Axes>"
            ],
            "image/png": "[encoded data removed]"
          },
          "metadata": {
            "needs_background": "light"
          }
        }
      ]
    },
    {
      "cell_type": "code",
      "source": [
        "liwc.boxplot('sad', by='Kmeans', figsize=(12, 8))"
      ],
      "metadata": {
        "colab": {
          "base_uri": "https://localhost:8080/",
          "height": 557
        },
        "id": "1ll-S1RlSfxv",
        "outputId": "080d98a3-361b-4af6-c611-7f44de2c7f83"
      },
      "execution_count": 31,
      "outputs": [
        {
          "output_type": "execute_result",
          "data": {
            "text/plain": [
              "<matplotlib.axes._subplots.AxesSubplot at 0x7f537fe15c10>"
            ]
          },
          "metadata": {},
          "execution_count": 31
        },
        {
          "output_type": "display_data",
          "data": {
            "text/plain": [
              "<Figure size 864x576 with 1 Axes>"
            ],
            "image/png": "[encoded data removed]"
          },
          "metadata": {
            "needs_background": "light"
          }
        }
      ]
    },
    {
      "cell_type": "code",
      "source": [
        "liwc.boxplot('social', by='Kmeans', figsize=(12, 8))"
      ],
      "metadata": {
        "colab": {
          "base_uri": "https://localhost:8080/",
          "height": 557
        },
        "id": "k8v0e3xJSf-f",
        "outputId": "663572e3-3dbe-46ce-e73c-29c6c4042c98"
      },
      "execution_count": 32,
      "outputs": [
        {
          "output_type": "execute_result",
          "data": {
            "text/plain": [
              "<matplotlib.axes._subplots.AxesSubplot at 0x7f538054e4d0>"
            ]
          },
          "metadata": {},
          "execution_count": 32
        },
        {
          "output_type": "display_data",
          "data": {
            "text/plain": [
              "<Figure size 864x576 with 1 Axes>"
            ],
            "image/png": "[encoded data removed]"
          },
          "metadata": {
            "needs_background": "light"
          }
        }
      ]
    },
    {
      "cell_type": "code",
      "source": [
        "liwc.boxplot('family', by='Kmeans', figsize=(12, 8))"
      ],
      "metadata": {
        "colab": {
          "base_uri": "https://localhost:8080/",
          "height": 557
        },
        "id": "2aH2jRJ4SgKv",
        "outputId": "29576cd7-62c0-4e8c-aa86-6901dfce7cd9"
      },
      "execution_count": 33,
      "outputs": [
        {
          "output_type": "execute_result",
          "data": {
            "text/plain": [
              "<matplotlib.axes._subplots.AxesSubplot at 0x7f5382ea32d0>"
            ]
          },
          "metadata": {},
          "execution_count": 33
        },
        {
          "output_type": "display_data",
          "data": {
            "text/plain": [
              "<Figure size 864x576 with 1 Axes>"
            ],
            "image/png": "[encoded data removed]"
          },
          "metadata": {
            "needs_background": "light"
          }
        }
      ]
    },
    {
      "cell_type": "code",
      "source": [
        "liwc.boxplot('friend', by='Kmeans', figsize=(12, 8))"
      ],
      "metadata": {
        "colab": {
          "base_uri": "https://localhost:8080/",
          "height": 557
        },
        "id": "wFMikHirSgWc",
        "outputId": "bf7e3503-37db-4650-d220-dfbc41fae6b8"
      },
      "execution_count": 34,
      "outputs": [
        {
          "output_type": "execute_result",
          "data": {
            "text/plain": [
              "<matplotlib.axes._subplots.AxesSubplot at 0x7f537fcbbf90>"
            ]
          },
          "metadata": {},
          "execution_count": 34
        },
        {
          "output_type": "display_data",
          "data": {
            "text/plain": [
              "<Figure size 864x576 with 1 Axes>"
            ],
            "image/png": "[encoded data removed]"
          },
          "metadata": {
            "needs_background": "light"
          }
        }
      ]
    },
    {
      "cell_type": "code",
      "source": [
        "liwc.boxplot('cogproc', by='Kmeans', figsize=(12, 8))"
      ],
      "metadata": {
        "colab": {
          "base_uri": "https://localhost:8080/",
          "height": 557
        },
        "id": "bbt5jvnVSghq",
        "outputId": "f67b9027-3469-452e-90a7-722dbc956b00"
      },
      "execution_count": 35,
      "outputs": [
        {
          "output_type": "execute_result",
          "data": {
            "text/plain": [
              "<matplotlib.axes._subplots.AxesSubplot at 0x7f537fbdf9d0>"
            ]
          },
          "metadata": {},
          "execution_count": 35
        },
        {
          "output_type": "display_data",
          "data": {
            "text/plain": [
              "<Figure size 864x576 with 1 Axes>"
            ],
            "image/png": "[encoded data removed]"
          },
          "metadata": {
            "needs_background": "light"
          }
        }
      ]
    },
    {
      "cell_type": "code",
      "source": [
        "liwc.boxplot('insight', by='Kmeans', figsize=(12, 8))"
      ],
      "metadata": {
        "colab": {
          "base_uri": "https://localhost:8080/",
          "height": 557
        },
        "id": "UIzCwUgDSgsU",
        "outputId": "4dd4238b-cc18-4ae4-822d-3a34b666a74f"
      },
      "execution_count": 36,
      "outputs": [
        {
          "output_type": "execute_result",
          "data": {
            "text/plain": [
              "<matplotlib.axes._subplots.AxesSubplot at 0x7f537fb84450>"
            ]
          },
          "metadata": {},
          "execution_count": 36
        },
        {
          "output_type": "display_data",
          "data": {
            "text/plain": [
              "<Figure size 864x576 with 1 Axes>"
            ],
            "image/png": "[encoded data removed]"
          },
          "metadata": {
            "needs_background": "light"
          }
        }
      ]
    },
    {
      "cell_type": "code",
      "source": [
        "liwc.boxplot('cause', by='Kmeans', figsize=(12, 8))"
      ],
      "metadata": {
        "colab": {
          "base_uri": "https://localhost:8080/",
          "height": 557
        },
        "id": "p4VuNq0RSg4D",
        "outputId": "fac31b20-2b6e-4a51-cc02-c7e802615ac5"
      },
      "execution_count": 37,
      "outputs": [
        {
          "output_type": "execute_result",
          "data": {
            "text/plain": [
              "<matplotlib.axes._subplots.AxesSubplot at 0x7f537fa95810>"
            ]
          },
          "metadata": {},
          "execution_count": 37
        },
        {
          "output_type": "display_data",
          "data": {
            "text/plain": [
              "<Figure size 864x576 with 1 Axes>"
            ],
            "image/png": "[encoded data removed]"
          },
          "metadata": {
            "needs_background": "light"
          }
        }
      ]
    },
    {
      "cell_type": "code",
      "source": [
        "liwc.boxplot('discrep', by='Kmeans', figsize=(12, 8))"
      ],
      "metadata": {
        "colab": {
          "base_uri": "https://localhost:8080/",
          "height": 557
        },
        "id": "FwvM-_rUShCu",
        "outputId": "95ada3d8-ebf7-420e-aa09-d693d0b15c30"
      },
      "execution_count": 38,
      "outputs": [
        {
          "output_type": "execute_result",
          "data": {
            "text/plain": [
              "<matplotlib.axes._subplots.AxesSubplot at 0x7f537f9cf550>"
            ]
          },
          "metadata": {},
          "execution_count": 38
        },
        {
          "output_type": "display_data",
          "data": {
            "text/plain": [
              "<Figure size 864x576 with 1 Axes>"
            ],
            "image/png": "[encoded data removed]"
          },
          "metadata": {
            "needs_background": "light"
          }
        }
      ]
    },
    {
      "cell_type": "code",
      "source": [
        "liwc.boxplot('tentat', by='Kmeans', figsize=(12, 8))"
      ],
      "metadata": {
        "colab": {
          "base_uri": "https://localhost:8080/",
          "height": 557
        },
        "id": "fAG1hs4WShOL",
        "outputId": "fe6a7303-da22-4b5a-8c25-fceac89f648c"
      },
      "execution_count": 39,
      "outputs": [
        {
          "output_type": "execute_result",
          "data": {
            "text/plain": [
              "<matplotlib.axes._subplots.AxesSubplot at 0x7f537f97b1d0>"
            ]
          },
          "metadata": {},
          "execution_count": 39
        },
        {
          "output_type": "display_data",
          "data": {
            "text/plain": [
              "<Figure size 864x576 with 1 Axes>"
            ],
            "image/png": "[encoded data removed]"
          },
          "metadata": {
            "needs_background": "light"
          }
        }
      ]
    },
    {
      "cell_type": "code",
      "source": [
        "liwc.boxplot('certain', by='Kmeans', figsize=(12, 8))"
      ],
      "metadata": {
        "colab": {
          "base_uri": "https://localhost:8080/",
          "height": 557
        },
        "id": "08Dm9ykOShZY",
        "outputId": "88867334-227a-4e2f-9df2-e738d5b3a572"
      },
      "execution_count": 40,
      "outputs": [
        {
          "output_type": "execute_result",
          "data": {
            "text/plain": [
              "<matplotlib.axes._subplots.AxesSubplot at 0x7f537f8a7910>"
            ]
          },
          "metadata": {},
          "execution_count": 40
        },
        {
          "output_type": "display_data",
          "data": {
            "text/plain": [
              "<Figure size 864x576 with 1 Axes>"
            ],
            "image/png": "[encoded data removed]"
          },
          "metadata": {
            "needs_background": "light"
          }
        }
      ]
    },
    {
      "cell_type": "code",
      "source": [
        "liwc.boxplot('differ', by='Kmeans', figsize=(12, 8))"
      ],
      "metadata": {
        "colab": {
          "base_uri": "https://localhost:8080/",
          "height": 557
        },
        "id": "vVPF5BL7Shk2",
        "outputId": "8c194501-cdc5-4ac7-f17a-97e88206e14d"
      },
      "execution_count": 41,
      "outputs": [
        {
          "output_type": "execute_result",
          "data": {
            "text/plain": [
              "<matplotlib.axes._subplots.AxesSubplot at 0x7f537f7cbe50>"
            ]
          },
          "metadata": {},
          "execution_count": 41
        },
        {
          "output_type": "display_data",
          "data": {
            "text/plain": [
              "<Figure size 864x576 with 1 Axes>"
            ],
            "image/png": "[encoded data removed]"
          },
          "metadata": {
            "needs_background": "light"
          }
        }
      ]
    },
    {
      "cell_type": "code",
      "source": [
        "liwc.boxplot('percept', by='Kmeans', figsize=(12, 8))"
      ],
      "metadata": {
        "colab": {
          "base_uri": "https://localhost:8080/",
          "height": 557
        },
        "id": "J-LdFyf_Shvx",
        "outputId": "abe6264a-93b9-4482-d484-ab09773df9bc"
      },
      "execution_count": 42,
      "outputs": [
        {
          "output_type": "execute_result",
          "data": {
            "text/plain": [
              "<matplotlib.axes._subplots.AxesSubplot at 0x7f537f7b5b50>"
            ]
          },
          "metadata": {},
          "execution_count": 42
        },
        {
          "output_type": "display_data",
          "data": {
            "text/plain": [
              "<Figure size 864x576 with 1 Axes>"
            ],
            "image/png": "[encoded data removed]"
          },
          "metadata": {
            "needs_background": "light"
          }
        }
      ]
    },
    {
      "cell_type": "code",
      "source": [
        "liwc.boxplot('affiliation', by='Kmeans', figsize=(12, 8))"
      ],
      "metadata": {
        "colab": {
          "base_uri": "https://localhost:8080/",
          "height": 557
        },
        "id": "duvBEkdxSh57",
        "outputId": "23d858eb-9bba-4ae2-af63-8ef43ea52b01"
      },
      "execution_count": 43,
      "outputs": [
        {
          "output_type": "execute_result",
          "data": {
            "text/plain": [
              "<matplotlib.axes._subplots.AxesSubplot at 0x7f537f6fb350>"
            ]
          },
          "metadata": {},
          "execution_count": 43
        },
        {
          "output_type": "display_data",
          "data": {
            "text/plain": [
              "<Figure size 864x576 with 1 Axes>"
            ],
            "image/png": "[encoded data removed]"
          },
          "metadata": {
            "needs_background": "light"
          }
        }
      ]
    },
    {
      "cell_type": "code",
      "source": [
        "liwc.boxplot('achieve', by='Kmeans', figsize=(12, 8))"
      ],
      "metadata": {
        "colab": {
          "base_uri": "https://localhost:8080/",
          "height": 557
        },
        "id": "pO5lqyL_SiDk",
        "outputId": "9c47c2c3-3a37-4593-cb4e-21c151d664e7"
      },
      "execution_count": 44,
      "outputs": [
        {
          "output_type": "execute_result",
          "data": {
            "text/plain": [
              "<matplotlib.axes._subplots.AxesSubplot at 0x7f5382f4d650>"
            ]
          },
          "metadata": {},
          "execution_count": 44
        },
        {
          "output_type": "display_data",
          "data": {
            "text/plain": [
              "<Figure size 864x576 with 1 Axes>"
            ],
            "image/png": "[encoded data removed]"
          },
          "metadata": {
            "needs_background": "light"
          }
        }
      ]
    },
    {
      "cell_type": "code",
      "source": [
        "liwc.boxplot('power', by='Kmeans', figsize=(12, 8))"
      ],
      "metadata": {
        "colab": {
          "base_uri": "https://localhost:8080/",
          "height": 557
        },
        "id": "1wwxp86kTVT-",
        "outputId": "c35bc994-4823-4cdc-97c2-df045a907c4d"
      },
      "execution_count": 45,
      "outputs": [
        {
          "output_type": "execute_result",
          "data": {
            "text/plain": [
              "<matplotlib.axes._subplots.AxesSubplot at 0x7f537f5bfd90>"
            ]
          },
          "metadata": {},
          "execution_count": 45
        },
        {
          "output_type": "display_data",
          "data": {
            "text/plain": [
              "<Figure size 864x576 with 1 Axes>"
            ],
            "image/png": "[encoded data removed]"
          },
          "metadata": {
            "needs_background": "light"
          }
        }
      ]
    },
    {
      "cell_type": "code",
      "source": [
        "liwc.boxplot('reward', by='Kmeans', figsize=(12, 8))"
      ],
      "metadata": {
        "colab": {
          "base_uri": "https://localhost:8080/",
          "height": 557
        },
        "id": "wvdGHby0TVr6",
        "outputId": "a8f8e786-3c41-4e1d-c79f-c40c36654d8e"
      },
      "execution_count": 46,
      "outputs": [
        {
          "output_type": "execute_result",
          "data": {
            "text/plain": [
              "<matplotlib.axes._subplots.AxesSubplot at 0x7f537f4e4390>"
            ]
          },
          "metadata": {},
          "execution_count": 46
        },
        {
          "output_type": "display_data",
          "data": {
            "text/plain": [
              "<Figure size 864x576 with 1 Axes>"
            ],
            "image/png": "[encoded data removed]"
          },
          "metadata": {
            "needs_background": "light"
          }
        }
      ]
    },
    {
      "cell_type": "code",
      "source": [
        "liwc.boxplot('risk', by='Kmeans', figsize=(12, 8))"
      ],
      "metadata": {
        "colab": {
          "base_uri": "https://localhost:8080/",
          "height": 557
        },
        "id": "ANyuQVZaTV4a",
        "outputId": "64c4c9cf-defc-42bc-fe5c-d17313658c58"
      },
      "execution_count": 47,
      "outputs": [
        {
          "output_type": "execute_result",
          "data": {
            "text/plain": [
              "<matplotlib.axes._subplots.AxesSubplot at 0x7f537f40d710>"
            ]
          },
          "metadata": {},
          "execution_count": 47
        },
        {
          "output_type": "display_data",
          "data": {
            "text/plain": [
              "<Figure size 864x576 with 1 Axes>"
            ],
            "image/png": "[encoded data removed]"
          },
          "metadata": {
            "needs_background": "light"
          }
        }
      ]
    },
    {
      "cell_type": "code",
      "source": [
        "liwc.boxplot('swear', by='Kmeans', figsize=(12, 8))"
      ],
      "metadata": {
        "colab": {
          "base_uri": "https://localhost:8080/",
          "height": 557
        },
        "id": "JeATxZRDTWNg",
        "outputId": "53d858e2-787e-48e7-b466-9c69a8980b53"
      },
      "execution_count": 48,
      "outputs": [
        {
          "output_type": "execute_result",
          "data": {
            "text/plain": [
              "<matplotlib.axes._subplots.AxesSubplot at 0x7f537f3baa10>"
            ]
          },
          "metadata": {},
          "execution_count": 48
        },
        {
          "output_type": "display_data",
          "data": {
            "text/plain": [
              "<Figure size 864x576 with 1 Axes>"
            ],
            "image/png": "[encoded data removed]"
          },
          "metadata": {
            "needs_background": "light"
          }
        }
      ]
    },
    {
      "cell_type": "code",
      "source": [
        "liwc.boxplot('drives', by='Kmeans', figsize=(12, 8))"
      ],
      "metadata": {
        "colab": {
          "base_uri": "https://localhost:8080/",
          "height": 557
        },
        "id": "7P565dsDSiNM",
        "outputId": "b4ad6b5d-0df2-48dd-aa92-c3fe07a3044f"
      },
      "execution_count": 49,
      "outputs": [
        {
          "output_type": "execute_result",
          "data": {
            "text/plain": [
              "<matplotlib.axes._subplots.AxesSubplot at 0x7f537f41e2d0>"
            ]
          },
          "metadata": {},
          "execution_count": 49
        },
        {
          "output_type": "display_data",
          "data": {
            "text/plain": [
              "<Figure size 864x576 with 1 Axes>"
            ],
            "image/png": "[encoded data removed]"
          },
          "metadata": {
            "needs_background": "light"
          }
        }
      ]
    }
  ],
  "metadata": {
    "kernelspec": {
      "display_name": "feml",
      "language": "python",
      "name": "feml"
    },
    "language_info": {
      "codemirror_mode": {
        "name": "ipython",
        "version": 3
      },
      "file_extension": ".py",
      "mimetype": "text/x-python",
      "name": "python",
      "nbconvert_exporter": "python",
      "pygments_lexer": "ipython3",
      "version": "3.7.3"
    },
    "toc": {
      "nav_menu": {},
      "number_sections": true,
      "sideBar": true,
      "skip_h1_title": false,
      "toc_cell": false,
      "toc_position": {
        "height": "921.556px",
        "left": "0px",
        "right": "1827px",
        "top": "110.444px",
        "width": "306.333px"
      },
      "toc_section_display": "block",
      "toc_window_display": true
    },
    "colab": {
      "name": "LIWC Analysis.ipynb",
      "provenance": [],
      "include_colab_link": true
    }
  },
  "nbformat": 4,
  "nbformat_minor": 0
}